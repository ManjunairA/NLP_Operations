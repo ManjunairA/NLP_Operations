{
 "cells": [
  {
   "cell_type": "markdown",
   "id": "fa36e827",
   "metadata": {},
   "source": [
    "# Removing the html tags using BeautifulSoup"
   ]
  },
  {
   "cell_type": "code",
   "execution_count": 1,
   "id": "e15492a2",
   "metadata": {},
   "outputs": [],
   "source": [
    "from bs4 import BeautifulSoup"
   ]
  },
  {
   "cell_type": "code",
   "execution_count": 2,
   "id": "30eb53fb",
   "metadata": {},
   "outputs": [],
   "source": [
    "html_text = \"<p>This is a <b>bold</b> statement with <a href='#'>links</a> and <i>italic</i> text.</p>\"\n"
   ]
  },
  {
   "cell_type": "code",
   "execution_count": 3,
   "id": "a84ab9e6",
   "metadata": {},
   "outputs": [],
   "source": [
    "soup = BeautifulSoup(html_text, \"html.parser\")"
   ]
  },
  {
   "cell_type": "code",
   "execution_count": 4,
   "id": "a16c96bc",
   "metadata": {},
   "outputs": [
    {
     "data": {
      "text/plain": [
       "<p>This is a <b>bold</b> statement with <a href=\"#\">links</a> and <i>italic</i> text.</p>"
      ]
     },
     "execution_count": 4,
     "metadata": {},
     "output_type": "execute_result"
    }
   ],
   "source": [
    "soup"
   ]
  },
  {
   "cell_type": "code",
   "execution_count": 5,
   "id": "c4dc2d12",
   "metadata": {},
   "outputs": [],
   "source": [
    "plain_text = soup.get_text()"
   ]
  },
  {
   "cell_type": "code",
   "execution_count": 6,
   "id": "96ded103",
   "metadata": {},
   "outputs": [
    {
     "data": {
      "text/plain": [
       "'This is a bold statement with links and italic text.'"
      ]
     },
     "execution_count": 6,
     "metadata": {},
     "output_type": "execute_result"
    }
   ],
   "source": [
    "plain_text"
   ]
  },
  {
   "cell_type": "markdown",
   "id": "66237761",
   "metadata": {},
   "source": [
    "# Removing the html tags using Regex"
   ]
  },
  {
   "cell_type": "code",
   "execution_count": 7,
   "id": "b547abf1",
   "metadata": {},
   "outputs": [],
   "source": [
    "import re"
   ]
  },
  {
   "cell_type": "code",
   "execution_count": 8,
   "id": "6abe140f",
   "metadata": {},
   "outputs": [],
   "source": [
    "html_text = \"<p>This is a <b>bold</b> statement with <a href='#'>links</a> and <i>italic</i> text.</p>\"\n"
   ]
  },
  {
   "cell_type": "code",
   "execution_count": 9,
   "id": "25e627a8",
   "metadata": {},
   "outputs": [
    {
     "data": {
      "text/plain": [
       "\"<p>This is a <b>bold</b> statement with <a href='#'>links</a> and <i>italic</i> text.</p>\""
      ]
     },
     "execution_count": 9,
     "metadata": {},
     "output_type": "execute_result"
    }
   ],
   "source": [
    "html_text"
   ]
  },
  {
   "cell_type": "code",
   "execution_count": 10,
   "id": "504c3e54",
   "metadata": {},
   "outputs": [],
   "source": [
    "plain_text = re.sub(r'<.*?>','', html_text)"
   ]
  },
  {
   "cell_type": "code",
   "execution_count": 11,
   "id": "b325de23",
   "metadata": {},
   "outputs": [
    {
     "data": {
      "text/plain": [
       "'This is a bold statement with links and italic text.'"
      ]
     },
     "execution_count": 11,
     "metadata": {},
     "output_type": "execute_result"
    }
   ],
   "source": [
    "plain_text"
   ]
  },
  {
   "cell_type": "markdown",
   "id": "47fb69ae",
   "metadata": {},
   "source": [
    "# Removing the html tags using lxml\n"
   ]
  },
  {
   "cell_type": "code",
   "execution_count": 12,
   "id": "454debc2",
   "metadata": {},
   "outputs": [],
   "source": [
    "from lxml import etree"
   ]
  },
  {
   "cell_type": "code",
   "execution_count": 13,
   "id": "8f5f328a",
   "metadata": {},
   "outputs": [],
   "source": [
    "html_text = \"<p>This is a <b>bold</b> statement with <a href='#'>links</a> and <i>italic</i> text.</p>\"\n"
   ]
  },
  {
   "cell_type": "code",
   "execution_count": 15,
   "id": "339898bf",
   "metadata": {},
   "outputs": [],
   "source": [
    "parser = etree.HTMLParser()\n",
    "tree = etree.fromstring(html_text,parser)"
   ]
  },
  {
   "cell_type": "code",
   "execution_count": 16,
   "id": "12b6ee00",
   "metadata": {},
   "outputs": [],
   "source": [
    "plain_text = ''.join(tree.itertext())"
   ]
  },
  {
   "cell_type": "code",
   "execution_count": 17,
   "id": "32c28e15",
   "metadata": {},
   "outputs": [
    {
     "data": {
      "text/plain": [
       "'This is a bold statement with links and italic text.'"
      ]
     },
     "execution_count": 17,
     "metadata": {},
     "output_type": "execute_result"
    }
   ],
   "source": [
    "plain_text"
   ]
  }
 ],
 "metadata": {
  "kernelspec": {
   "display_name": "Python 3 (ipykernel)",
   "language": "python",
   "name": "python3"
  },
  "language_info": {
   "codemirror_mode": {
    "name": "ipython",
    "version": 3
   },
   "file_extension": ".py",
   "mimetype": "text/x-python",
   "name": "python",
   "nbconvert_exporter": "python",
   "pygments_lexer": "ipython3",
   "version": "3.9.13"
  }
 },
 "nbformat": 4,
 "nbformat_minor": 5
}
