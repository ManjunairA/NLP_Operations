{
 "cells": [
  {
   "cell_type": "markdown",
   "id": "56113968",
   "metadata": {},
   "source": [
    "# Removing the html tags using BeautifulSoup"
   ]
  },
  {
   "cell_type": "code",
   "execution_count": 1,
   "id": "6791b596",
   "metadata": {},
   "outputs": [],
   "source": [
    "from bs4 import BeautifulSoup"
   ]
  },
  {
   "cell_type": "code",
   "execution_count": 2,
   "id": "c8dbd28f",
   "metadata": {},
   "outputs": [],
   "source": [
    "html_text = \"<p>This is a <b>bold</b> statement with <a href='#'>links</a> and <i>italic</i> text.</p>\"\n"
   ]
  },
  {
   "cell_type": "code",
   "execution_count": 3,
   "id": "6c82d433",
   "metadata": {},
   "outputs": [],
   "source": [
    "soup = BeautifulSoup(html_text, \"html.parser\")"
   ]
  },
  {
   "cell_type": "code",
   "execution_count": 4,
   "id": "b441feb4",
   "metadata": {},
   "outputs": [
    {
     "data": {
      "text/plain": [
       "<p>This is a <b>bold</b> statement with <a href=\"#\">links</a> and <i>italic</i> text.</p>"
      ]
     },
     "execution_count": 4,
     "metadata": {},
     "output_type": "execute_result"
    }
   ],
   "source": [
    "soup"
   ]
  },
  {
   "cell_type": "code",
   "execution_count": 5,
   "id": "949d106e",
   "metadata": {},
   "outputs": [],
   "source": [
    "plain_text = soup.get_text()"
   ]
  },
  {
   "cell_type": "code",
   "execution_count": 6,
   "id": "6374ddf2",
   "metadata": {},
   "outputs": [
    {
     "data": {
      "text/plain": [
       "'This is a bold statement with links and italic text.'"
      ]
     },
     "execution_count": 6,
     "metadata": {},
     "output_type": "execute_result"
    }
   ],
   "source": [
    "plain_text"
   ]
  },
  {
   "cell_type": "markdown",
   "id": "197507a5",
   "metadata": {},
   "source": [
    "# Removing the html tags using Regex"
   ]
  },
  {
   "cell_type": "code",
   "execution_count": 7,
   "id": "9a520b15",
   "metadata": {},
   "outputs": [],
   "source": [
    "import re"
   ]
  },
  {
   "cell_type": "code",
   "execution_count": 8,
   "id": "bd0f3ab6",
   "metadata": {},
   "outputs": [],
   "source": [
    "html_text = \"<p>This is a <b>bold</b> statement with <a href='#'>links</a> and <i>italic</i> text.</p>\"\n"
   ]
  },
  {
   "cell_type": "code",
   "execution_count": 9,
   "id": "d21ff61d",
   "metadata": {},
   "outputs": [
    {
     "data": {
      "text/plain": [
       "\"<p>This is a <b>bold</b> statement with <a href='#'>links</a> and <i>italic</i> text.</p>\""
      ]
     },
     "execution_count": 9,
     "metadata": {},
     "output_type": "execute_result"
    }
   ],
   "source": [
    "html_text"
   ]
  },
  {
   "cell_type": "code",
   "execution_count": 10,
   "id": "3e0af8b8",
   "metadata": {},
   "outputs": [],
   "source": [
    "plain_text = re.sub(r'<.*?>','', html_text)"
   ]
  },
  {
   "cell_type": "code",
   "execution_count": 11,
   "id": "e4d45dbb",
   "metadata": {},
   "outputs": [
    {
     "data": {
      "text/plain": [
       "'This is a bold statement with links and italic text.'"
      ]
     },
     "execution_count": 11,
     "metadata": {},
     "output_type": "execute_result"
    }
   ],
   "source": [
    "plain_text"
   ]
  },
  {
   "cell_type": "markdown",
   "id": "02469adf",
   "metadata": {},
   "source": [
    "# Removing the html tags using lxml\n"
   ]
  },
  {
   "cell_type": "code",
   "execution_count": 12,
   "id": "c592f0a9",
   "metadata": {},
   "outputs": [],
   "source": [
    "from lxml import etree"
   ]
  },
  {
   "cell_type": "code",
   "execution_count": 13,
   "id": "587438f7",
   "metadata": {},
   "outputs": [],
   "source": [
    "html_text = \"<p>This is a <b>bold</b> statement with <a href='#'>links</a> and <i>italic</i> text.</p>\"\n"
   ]
  },
  {
   "cell_type": "code",
   "execution_count": 15,
   "id": "2962bed8",
   "metadata": {},
   "outputs": [],
   "source": [
    "parser = etree.HTMLParser()\n",
    "tree = etree.fromstring(html_text,parser)"
   ]
  },
  {
   "cell_type": "code",
   "execution_count": 16,
   "id": "fd1780d7",
   "metadata": {},
   "outputs": [],
   "source": [
    "plain_text = ''.join(tree.itertext())"
   ]
  },
  {
   "cell_type": "code",
   "execution_count": 17,
   "id": "41d3393c",
   "metadata": {},
   "outputs": [
    {
     "data": {
      "text/plain": [
       "'This is a bold statement with links and italic text.'"
      ]
     },
     "execution_count": 17,
     "metadata": {},
     "output_type": "execute_result"
    }
   ],
   "source": [
    "plain_text"
   ]
  },
  {
   "cell_type": "code",
   "execution_count": null,
   "id": "203b1513",
   "metadata": {},
   "outputs": [],
   "source": []
  }
 ],
 "metadata": {
  "kernelspec": {
   "display_name": "Python 3 (ipykernel)",
   "language": "python",
   "name": "python3"
  },
  "language_info": {
   "codemirror_mode": {
    "name": "ipython",
    "version": 3
   },
   "file_extension": ".py",
   "mimetype": "text/x-python",
   "name": "python",
   "nbconvert_exporter": "python",
   "pygments_lexer": "ipython3",
   "version": "3.9.13"
  }
 },
 "nbformat": 4,
 "nbformat_minor": 5
}
