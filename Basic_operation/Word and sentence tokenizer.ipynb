{
 "cells": [
  {
   "cell_type": "markdown",
   "id": "43024a29",
   "metadata": {},
   "source": [
    "# Word Tokenize using NLTK"
   ]
  },
  {
   "cell_type": "code",
   "execution_count": 1,
   "id": "18f3c9c7",
   "metadata": {},
   "outputs": [],
   "source": [
    "import nltk"
   ]
  },
  {
   "cell_type": "code",
   "execution_count": 2,
   "id": "fe4767da",
   "metadata": {},
   "outputs": [],
   "source": [
    "from nltk.tokenize import word_tokenize"
   ]
  },
  {
   "cell_type": "code",
   "execution_count": 3,
   "id": "488fbe7d",
   "metadata": {},
   "outputs": [
    {
     "name": "stderr",
     "output_type": "stream",
     "text": [
      "[nltk_data] Downloading package punkt_tab to\n",
      "[nltk_data]     C:\\Users\\nairm\\AppData\\Roaming\\nltk_data...\n",
      "[nltk_data]   Package punkt_tab is already up-to-date!\n"
     ]
    },
    {
     "data": {
      "text/plain": [
       "True"
      ]
     },
     "execution_count": 3,
     "metadata": {},
     "output_type": "execute_result"
    }
   ],
   "source": [
    "nltk.download('punkt_tab')"
   ]
  },
  {
   "cell_type": "code",
   "execution_count": 4,
   "id": "0859d70f",
   "metadata": {},
   "outputs": [],
   "source": [
    "text = \"Hello, world! This is an example sentence.\""
   ]
  },
  {
   "cell_type": "code",
   "execution_count": 5,
   "id": "868ef586",
   "metadata": {},
   "outputs": [],
   "source": [
    "words = word_tokenize(text)"
   ]
  },
  {
   "cell_type": "code",
   "execution_count": 6,
   "id": "334200ac",
   "metadata": {},
   "outputs": [
    {
     "data": {
      "text/plain": [
       "['Hello', ',', 'world', '!', 'This', 'is', 'an', 'example', 'sentence', '.']"
      ]
     },
     "execution_count": 6,
     "metadata": {},
     "output_type": "execute_result"
    }
   ],
   "source": [
    "words"
   ]
  },
  {
   "cell_type": "markdown",
   "id": "8c291d13",
   "metadata": {},
   "source": [
    "# Sentence Tokenize using NLTK"
   ]
  },
  {
   "cell_type": "code",
   "execution_count": 7,
   "id": "3c581b95",
   "metadata": {},
   "outputs": [],
   "source": [
    "import nltk"
   ]
  },
  {
   "cell_type": "code",
   "execution_count": 8,
   "id": "e115319c",
   "metadata": {},
   "outputs": [],
   "source": [
    "from nltk.tokenize import sent_tokenize"
   ]
  },
  {
   "cell_type": "code",
   "execution_count": 9,
   "id": "81f699af",
   "metadata": {},
   "outputs": [
    {
     "name": "stderr",
     "output_type": "stream",
     "text": [
      "[nltk_data] Downloading package punkt_tab to\n",
      "[nltk_data]     C:\\Users\\nairm\\AppData\\Roaming\\nltk_data...\n",
      "[nltk_data]   Package punkt_tab is already up-to-date!\n"
     ]
    },
    {
     "data": {
      "text/plain": [
       "True"
      ]
     },
     "execution_count": 9,
     "metadata": {},
     "output_type": "execute_result"
    }
   ],
   "source": [
    "nltk.download('punkt_tab')"
   ]
  },
  {
   "cell_type": "code",
   "execution_count": 10,
   "id": "56318601",
   "metadata": {},
   "outputs": [],
   "source": [
    "text = \"Hello, world! This is an example sentence. And here's another one.\""
   ]
  },
  {
   "cell_type": "code",
   "execution_count": 11,
   "id": "c1b9fa55",
   "metadata": {},
   "outputs": [],
   "source": [
    "tokenized_sentence = sent_tokenize(text)"
   ]
  },
  {
   "cell_type": "code",
   "execution_count": 12,
   "id": "0efc803c",
   "metadata": {},
   "outputs": [
    {
     "data": {
      "text/plain": [
       "['Hello, world!', 'This is an example sentence.', \"And here's another one.\"]"
      ]
     },
     "execution_count": 12,
     "metadata": {},
     "output_type": "execute_result"
    }
   ],
   "source": [
    "tokenized_sentence"
   ]
  },
  {
   "cell_type": "markdown",
   "id": "558acd17",
   "metadata": {},
   "source": [
    "# Word Tokenization using Spacy"
   ]
  },
  {
   "cell_type": "code",
   "execution_count": 13,
   "id": "0db12b9e",
   "metadata": {},
   "outputs": [],
   "source": [
    "import spacy"
   ]
  },
  {
   "cell_type": "code",
   "execution_count": 14,
   "id": "3ed9e07c",
   "metadata": {},
   "outputs": [],
   "source": [
    "nlp = spacy.load('en_core_web_sm')"
   ]
  },
  {
   "cell_type": "code",
   "execution_count": 15,
   "id": "25e06402",
   "metadata": {},
   "outputs": [],
   "source": [
    "text = \"Hello, world! This is an example sentence. And here's another one.\""
   ]
  },
  {
   "cell_type": "code",
   "execution_count": 16,
   "id": "aa7b44d9",
   "metadata": {},
   "outputs": [],
   "source": [
    "doc = nlp(text)"
   ]
  },
  {
   "cell_type": "code",
   "execution_count": 17,
   "id": "c3fe5d53",
   "metadata": {},
   "outputs": [],
   "source": [
    "# Tokenize the text into sentences\n",
    "words = [token.text for token in doc]"
   ]
  },
  {
   "cell_type": "code",
   "execution_count": 18,
   "id": "4321bd4f",
   "metadata": {},
   "outputs": [
    {
     "data": {
      "text/plain": [
       "['Hello',\n",
       " ',',\n",
       " 'world',\n",
       " '!',\n",
       " 'This',\n",
       " 'is',\n",
       " 'an',\n",
       " 'example',\n",
       " 'sentence',\n",
       " '.',\n",
       " 'And',\n",
       " 'here',\n",
       " \"'s\",\n",
       " 'another',\n",
       " 'one',\n",
       " '.']"
      ]
     },
     "execution_count": 18,
     "metadata": {},
     "output_type": "execute_result"
    }
   ],
   "source": [
    "words "
   ]
  },
  {
   "cell_type": "markdown",
   "id": "cb1b8e07",
   "metadata": {},
   "source": [
    "# Sentence Tokenization using Spacy\n"
   ]
  },
  {
   "cell_type": "code",
   "execution_count": 19,
   "id": "6bfd0bc7",
   "metadata": {},
   "outputs": [],
   "source": [
    "import spacy"
   ]
  },
  {
   "cell_type": "code",
   "execution_count": 20,
   "id": "dc36f9b0",
   "metadata": {},
   "outputs": [],
   "source": [
    "nlp = spacy.load('en_core_web_sm')"
   ]
  },
  {
   "cell_type": "code",
   "execution_count": 21,
   "id": "1aeb736c",
   "metadata": {},
   "outputs": [],
   "source": [
    "text = \"Hello, world! This is an example sentence. And here's another one.\""
   ]
  },
  {
   "cell_type": "code",
   "execution_count": 22,
   "id": "a5853088",
   "metadata": {},
   "outputs": [],
   "source": [
    "doc = nlp(text)"
   ]
  },
  {
   "cell_type": "code",
   "execution_count": 23,
   "id": "b57c83d6",
   "metadata": {},
   "outputs": [],
   "source": [
    "sentences = [sent.text for sent in doc.sents]"
   ]
  },
  {
   "cell_type": "code",
   "execution_count": 24,
   "id": "8ff4de9c",
   "metadata": {},
   "outputs": [
    {
     "data": {
      "text/plain": [
       "['Hello, world!', 'This is an example sentence.', \"And here's another one.\"]"
      ]
     },
     "execution_count": 24,
     "metadata": {},
     "output_type": "execute_result"
    }
   ],
   "source": [
    "sentences"
   ]
  }
 ],
 "metadata": {
  "kernelspec": {
   "display_name": "Python 3 (ipykernel)",
   "language": "python",
   "name": "python3"
  },
  "language_info": {
   "codemirror_mode": {
    "name": "ipython",
    "version": 3
   },
   "file_extension": ".py",
   "mimetype": "text/x-python",
   "name": "python",
   "nbconvert_exporter": "python",
   "pygments_lexer": "ipython3",
   "version": "3.9.13"
  }
 },
 "nbformat": 4,
 "nbformat_minor": 5
}
