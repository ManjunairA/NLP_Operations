{
 "cells": [
  {
   "cell_type": "markdown",
   "id": "ecc70b26",
   "metadata": {},
   "source": [
    "# Removing punctuation using string"
   ]
  },
  {
   "cell_type": "code",
   "execution_count": 1,
   "id": "4318394e",
   "metadata": {},
   "outputs": [],
   "source": [
    "import string"
   ]
  },
  {
   "cell_type": "code",
   "execution_count": 2,
   "id": "87836b74",
   "metadata": {},
   "outputs": [],
   "source": [
    "def remove_punctuation(text):\n",
    "    # Create a translation table that maps each punctuation to None\n",
    "    translator = str.maketrans(\"\", \"\", string.punctuation)\n",
    "    # Translate the text using the translation table\n",
    "    return text.translate(translator)"
   ]
  },
  {
   "cell_type": "code",
   "execution_count": 3,
   "id": "5bfe449a",
   "metadata": {},
   "outputs": [],
   "source": [
    "text_with_punctuation = \"Hello, world! Let's remove punctuation: yes?\""
   ]
  },
  {
   "cell_type": "code",
   "execution_count": 4,
   "id": "70430af3",
   "metadata": {},
   "outputs": [
    {
     "data": {
      "text/plain": [
       "\"Hello, world! Let's remove punctuation: yes?\""
      ]
     },
     "execution_count": 4,
     "metadata": {},
     "output_type": "execute_result"
    }
   ],
   "source": [
    "text_with_punctuation"
   ]
  },
  {
   "cell_type": "code",
   "execution_count": 5,
   "id": "d69bb7e9",
   "metadata": {},
   "outputs": [],
   "source": [
    "text_without_punctuation = remove_punctuation(text_with_punctuation)"
   ]
  },
  {
   "cell_type": "code",
   "execution_count": 6,
   "id": "c1efb3e1",
   "metadata": {},
   "outputs": [
    {
     "data": {
      "text/plain": [
       "'Hello world Lets remove punctuation yes'"
      ]
     },
     "execution_count": 6,
     "metadata": {},
     "output_type": "execute_result"
    }
   ],
   "source": [
    "text_without_punctuation"
   ]
  },
  {
   "cell_type": "markdown",
   "id": "43341b5e",
   "metadata": {},
   "source": [
    "# Removing punctuation using Regex"
   ]
  },
  {
   "cell_type": "code",
   "execution_count": 7,
   "id": "0e0bd728",
   "metadata": {},
   "outputs": [],
   "source": [
    "import re"
   ]
  },
  {
   "cell_type": "code",
   "execution_count": 8,
   "id": "3adddb5c",
   "metadata": {},
   "outputs": [],
   "source": [
    "def remove_punctuation(text):\n",
    "    # Use regex to substitute any punctuation character with an empty string\n",
    "    return re.sub(r'[^\\w\\s]', '', text)"
   ]
  },
  {
   "cell_type": "code",
   "execution_count": 9,
   "id": "522ad94c",
   "metadata": {},
   "outputs": [],
   "source": [
    "text_with_punctuation = \"Hello, world! Let's remove punctuation: yes?\""
   ]
  },
  {
   "cell_type": "code",
   "execution_count": 10,
   "id": "db81c2ec",
   "metadata": {},
   "outputs": [
    {
     "data": {
      "text/plain": [
       "\"Hello, world! Let's remove punctuation: yes?\""
      ]
     },
     "execution_count": 10,
     "metadata": {},
     "output_type": "execute_result"
    }
   ],
   "source": [
    "text_with_punctuation"
   ]
  },
  {
   "cell_type": "code",
   "execution_count": 11,
   "id": "9800354b",
   "metadata": {},
   "outputs": [],
   "source": [
    "text_without_punctuation = remove_punctuation(text_with_punctuation)"
   ]
  },
  {
   "cell_type": "code",
   "execution_count": 12,
   "id": "879d2d3a",
   "metadata": {},
   "outputs": [
    {
     "data": {
      "text/plain": [
       "'Hello world Lets remove punctuation yes'"
      ]
     },
     "execution_count": 12,
     "metadata": {},
     "output_type": "execute_result"
    }
   ],
   "source": [
    "text_without_punctuation"
   ]
  },
  {
   "cell_type": "markdown",
   "id": "359c9f1a",
   "metadata": {},
   "source": [
    "# Removing punctuation using string with list comprehension"
   ]
  },
  {
   "cell_type": "code",
   "execution_count": 13,
   "id": "ec86823b",
   "metadata": {},
   "outputs": [],
   "source": [
    "import string"
   ]
  },
  {
   "cell_type": "code",
   "execution_count": 14,
   "id": "3a049a79",
   "metadata": {},
   "outputs": [],
   "source": [
    "def remove_punctuation(text):\n",
    "    return \"\".join([ char for char in text if char not in string.punctuation])"
   ]
  },
  {
   "cell_type": "code",
   "execution_count": 15,
   "id": "36783e1f",
   "metadata": {},
   "outputs": [],
   "source": [
    "text_with_punctuation = \"Hello, world! Let's remove punctuation: yes?\""
   ]
  },
  {
   "cell_type": "code",
   "execution_count": 16,
   "id": "ea36835e",
   "metadata": {},
   "outputs": [
    {
     "data": {
      "text/plain": [
       "\"Hello, world! Let's remove punctuation: yes?\""
      ]
     },
     "execution_count": 16,
     "metadata": {},
     "output_type": "execute_result"
    }
   ],
   "source": [
    "text_with_punctuation"
   ]
  },
  {
   "cell_type": "code",
   "execution_count": 17,
   "id": "eba2f72b",
   "metadata": {},
   "outputs": [],
   "source": [
    "text_without_punctuation = remove_punctuation(text_with_punctuation)"
   ]
  },
  {
   "cell_type": "code",
   "execution_count": 18,
   "id": "2fc3e8c5",
   "metadata": {},
   "outputs": [
    {
     "data": {
      "text/plain": [
       "'Hello world Lets remove punctuation yes'"
      ]
     },
     "execution_count": 18,
     "metadata": {},
     "output_type": "execute_result"
    }
   ],
   "source": [
    "text_without_punctuation"
   ]
  }
 ],
 "metadata": {
  "kernelspec": {
   "display_name": "Python 3 (ipykernel)",
   "language": "python",
   "name": "python3"
  },
  "language_info": {
   "codemirror_mode": {
    "name": "ipython",
    "version": 3
   },
   "file_extension": ".py",
   "mimetype": "text/x-python",
   "name": "python",
   "nbconvert_exporter": "python",
   "pygments_lexer": "ipython3",
   "version": "3.9.13"
  }
 },
 "nbformat": 4,
 "nbformat_minor": 5
}
