{
 "cells": [
  {
   "cell_type": "markdown",
   "id": "abf13571",
   "metadata": {},
   "source": [
    "# Removing punctuation using string"
   ]
  },
  {
   "cell_type": "code",
   "execution_count": 1,
   "id": "2c467b94",
   "metadata": {},
   "outputs": [],
   "source": [
    "import string"
   ]
  },
  {
   "cell_type": "code",
   "execution_count": 2,
   "id": "f837e4ab",
   "metadata": {},
   "outputs": [],
   "source": [
    "def remove_punctuation(text):\n",
    "    # Create a translation table that maps each punctuation to None\n",
    "    translator = str.maketrans(\"\", \"\", string.punctuation)\n",
    "    # Translate the text using the translation table\n",
    "    return text.translate(translator)"
   ]
  },
  {
   "cell_type": "code",
   "execution_count": 3,
   "id": "24c5125e",
   "metadata": {},
   "outputs": [],
   "source": [
    "text_with_punctuation = \"Hello, world! Let's remove punctuation: yes?\""
   ]
  },
  {
   "cell_type": "code",
   "execution_count": 4,
   "id": "322ab482",
   "metadata": {},
   "outputs": [],
   "source": [
    "text_without_punctuation = remove_punctuation(text_with_punctuation)"
   ]
  },
  {
   "cell_type": "code",
   "execution_count": 5,
   "id": "9045f35b",
   "metadata": {},
   "outputs": [
    {
     "data": {
      "text/plain": [
       "'Hello world Lets remove punctuation yes'"
      ]
     },
     "execution_count": 5,
     "metadata": {},
     "output_type": "execute_result"
    }
   ],
   "source": [
    "text_without_punctuation"
   ]
  },
  {
   "cell_type": "markdown",
   "id": "50553911",
   "metadata": {},
   "source": [
    "# Removing punctuation using Regex"
   ]
  },
  {
   "cell_type": "code",
   "execution_count": 6,
   "id": "45aedaad",
   "metadata": {},
   "outputs": [],
   "source": [
    "import re"
   ]
  },
  {
   "cell_type": "code",
   "execution_count": 7,
   "id": "db48e7e9",
   "metadata": {},
   "outputs": [],
   "source": [
    "def remove_punctuation(text):\n",
    "    # Use regex to substitute any punctuation character with an empty string\n",
    "    return re.sub(r'[^\\w\\s]', '', text)"
   ]
  },
  {
   "cell_type": "code",
   "execution_count": 8,
   "id": "f7768044",
   "metadata": {},
   "outputs": [],
   "source": [
    "text_with_punctuation = \"Hello, world! Let's remove punctuation: yes?\""
   ]
  },
  {
   "cell_type": "code",
   "execution_count": 10,
   "id": "9bb910cc",
   "metadata": {},
   "outputs": [
    {
     "data": {
      "text/plain": [
       "\"Hello, world! Let's remove punctuation: yes?\""
      ]
     },
     "execution_count": 10,
     "metadata": {},
     "output_type": "execute_result"
    }
   ],
   "source": [
    "text_with_punctuation"
   ]
  },
  {
   "cell_type": "markdown",
   "id": "3dff4144",
   "metadata": {},
   "source": [
    "# Removing punctuation using string with list comprehension"
   ]
  },
  {
   "cell_type": "code",
   "execution_count": 11,
   "id": "2a67b286",
   "metadata": {},
   "outputs": [],
   "source": [
    "import string"
   ]
  },
  {
   "cell_type": "code",
   "execution_count": 12,
   "id": "c09b5119",
   "metadata": {},
   "outputs": [],
   "source": [
    "def remove_punctuation(text):\n",
    "    return \"\".join([ char for char in text if char not in string.punctuation])"
   ]
  },
  {
   "cell_type": "code",
   "execution_count": 13,
   "id": "6eba7ee7",
   "metadata": {},
   "outputs": [],
   "source": [
    "text_with_punctuation = \"Hello, world! Let's remove punctuation: yes?\""
   ]
  },
  {
   "cell_type": "code",
   "execution_count": 14,
   "id": "c7579151",
   "metadata": {},
   "outputs": [
    {
     "data": {
      "text/plain": [
       "\"Hello, world! Let's remove punctuation: yes?\""
      ]
     },
     "execution_count": 14,
     "metadata": {},
     "output_type": "execute_result"
    }
   ],
   "source": [
    "text_with_punctuation"
   ]
  },
  {
   "cell_type": "code",
   "execution_count": null,
   "id": "80c9ba31",
   "metadata": {},
   "outputs": [],
   "source": []
  }
 ],
 "metadata": {
  "kernelspec": {
   "display_name": "Python 3 (ipykernel)",
   "language": "python",
   "name": "python3"
  },
  "language_info": {
   "codemirror_mode": {
    "name": "ipython",
    "version": 3
   },
   "file_extension": ".py",
   "mimetype": "text/x-python",
   "name": "python",
   "nbconvert_exporter": "python",
   "pygments_lexer": "ipython3",
   "version": "3.9.13"
  }
 },
 "nbformat": 4,
 "nbformat_minor": 5
}
