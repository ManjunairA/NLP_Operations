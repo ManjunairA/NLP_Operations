{
 "cells": [
  {
   "cell_type": "markdown",
   "id": "4fabc4e5",
   "metadata": {},
   "source": [
    "# Removing emoji using Regex"
   ]
  },
  {
   "cell_type": "code",
   "execution_count": 1,
   "id": "68bea88d",
   "metadata": {},
   "outputs": [],
   "source": [
    "import re"
   ]
  },
  {
   "cell_type": "code",
   "execution_count": 2,
   "id": "7691bac1",
   "metadata": {},
   "outputs": [],
   "source": [
    "def remove_emojis(text):\n",
    "    # Define a regex pattern to match emoji characters\n",
    "    emoji_pattern = re.compile(\n",
    "        \"[\"\n",
    "        \"\\U0001F600-\\U0001F64F\"  # Emoticons\n",
    "        \"\\U0001F300-\\U0001F5FF\"  # Symbols & Pictographs\n",
    "        \"\\U0001F680-\\U0001F6FF\"  # Transport & Map Symbols\n",
    "        \"\\U0001F1E0-\\U0001F1FF\"  # Flags (iOS)\n",
    "        \"\\U00002702-\\U000027B0\"  # Dingbats\n",
    "        \"\\U000024C2-\\U0001F251\"  # Enclosed Characters\n",
    "        \"]+\",\n",
    "        flags=re.UNICODE\n",
    "    )\n",
    "\n",
    "    # Replace emojis with an empty string\n",
    "    return emoji_pattern.sub(r'', text)"
   ]
  },
  {
   "cell_type": "code",
   "execution_count": 3,
   "id": "c12336d4",
   "metadata": {},
   "outputs": [],
   "source": [
    "text_with_emojis = \"Hello 👋, I am excited 😄 about this! Let's code 🖥️ together.\"\n"
   ]
  },
  {
   "cell_type": "code",
   "execution_count": 4,
   "id": "6784d739",
   "metadata": {},
   "outputs": [],
   "source": [
    "text_without_emojis = remove_emojis(text_with_emojis)\n"
   ]
  },
  {
   "cell_type": "code",
   "execution_count": 5,
   "id": "58504a7b",
   "metadata": {},
   "outputs": [
    {
     "data": {
      "text/plain": [
       "\"Hello , I am excited  about this! Let's code  together.\""
      ]
     },
     "execution_count": 5,
     "metadata": {},
     "output_type": "execute_result"
    }
   ],
   "source": [
    "text_without_emojis"
   ]
  },
  {
   "cell_type": "markdown",
   "id": "b5a05bfe",
   "metadata": {},
   "source": [
    "# Replacing the emoji with UTF endoded character"
   ]
  },
  {
   "cell_type": "code",
   "execution_count": 6,
   "id": "7e1757b2",
   "metadata": {},
   "outputs": [],
   "source": [
    "import re"
   ]
  },
  {
   "cell_type": "code",
   "execution_count": 7,
   "id": "bc335e27",
   "metadata": {},
   "outputs": [],
   "source": [
    "def emoji_to_utf(emoji):\n",
    "    \"\"\"Convert a single emoji to its UTF-8 code.\"\"\"\n",
    "    # Encode the emoji to UTF-8 bytes\n",
    "    utf_bytes = emoji.encode('utf-8')\n",
    "    \n",
    "    # Convert each byte to a hex string and join them with space\n",
    "    utf_code = ' '.join(f'U+{byte:02X}' for byte in utf_bytes)\n",
    "    \n",
    "    return utf_code"
   ]
  },
  {
   "cell_type": "code",
   "execution_count": 8,
   "id": "37212f89",
   "metadata": {},
   "outputs": [],
   "source": [
    "def replace_emojis_with_utf(text):\n",
    "    \"\"\"Replace all emojis in the given text with their UTF-8 codes.\"\"\"\n",
    "    # Define a regex pattern to match emoji characters\n",
    "    emoji_pattern = re.compile(\n",
    "        \"[\"\n",
    "        \"\\U0001F600-\\U0001F64F\"  # Emoticons\n",
    "        \"\\U0001F300-\\U0001F5FF\"  # Symbols & Pictographs\n",
    "        \"\\U0001F680-\\U0001F6FF\"  # Transport & Map Symbols\n",
    "        \"\\U0001F1E0-\\U0001F1FF\"  # Flags (iOS)\n",
    "        \"\\U00002702-\\U000027B0\"  # Dingbats\n",
    "        \"\\U000024C2-\\U0001F251\"  # Enclosed Characters\n",
    "        \"]+\",\n",
    "        flags=re.UNICODE\n",
    "    )\n",
    "    \n",
    "    # Replace each emoji in the text with its UTF-8 code\n",
    "    return emoji_pattern.sub(lambda match: emoji_to_utf(match.group(0)), text)"
   ]
  },
  {
   "cell_type": "code",
   "execution_count": 9,
   "id": "165253d0",
   "metadata": {},
   "outputs": [],
   "source": [
    "text_with_emojis = \"Hello 👋, I am excited 😄 about this! Let's code 🖥️ together. Go 🇺🇸!\""
   ]
  },
  {
   "cell_type": "code",
   "execution_count": 10,
   "id": "3d5828e6",
   "metadata": {},
   "outputs": [],
   "source": [
    "text_with_utf = replace_emojis_with_utf(text_with_emojis)"
   ]
  },
  {
   "cell_type": "code",
   "execution_count": 11,
   "id": "b73842b1",
   "metadata": {},
   "outputs": [
    {
     "data": {
      "text/plain": [
       "\"Hello U+F0 U+9F U+91 U+8B, I am excited U+F0 U+9F U+98 U+84 about this! Let's code U+F0 U+9F U+96 U+A5 U+EF U+B8 U+8F together. Go U+F0 U+9F U+87 U+BA U+F0 U+9F U+87 U+B8!\""
      ]
     },
     "execution_count": 11,
     "metadata": {},
     "output_type": "execute_result"
    }
   ],
   "source": [
    "text_with_utf"
   ]
  }
 ],
 "metadata": {
  "kernelspec": {
   "display_name": "Python 3 (ipykernel)",
   "language": "python",
   "name": "python3"
  },
  "language_info": {
   "codemirror_mode": {
    "name": "ipython",
    "version": 3
   },
   "file_extension": ".py",
   "mimetype": "text/x-python",
   "name": "python",
   "nbconvert_exporter": "python",
   "pygments_lexer": "ipython3",
   "version": "3.9.13"
  }
 },
 "nbformat": 4,
 "nbformat_minor": 5
}
