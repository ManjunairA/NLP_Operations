{
 "cells": [
  {
   "cell_type": "markdown",
   "id": "371f88a9",
   "metadata": {},
   "source": [
    "# Removing emoji using Regex"
   ]
  },
  {
   "cell_type": "code",
   "execution_count": 1,
   "id": "4c154027",
   "metadata": {},
   "outputs": [],
   "source": [
    "import re"
   ]
  },
  {
   "cell_type": "code",
   "execution_count": 2,
   "id": "6104fcb7",
   "metadata": {},
   "outputs": [],
   "source": [
    "def remove_emojis(text):\n",
    "    # Define a regex pattern to match emoji characters\n",
    "    emoji_pattern = re.compile(\n",
    "        \"[\"\n",
    "        \"\\U0001F600-\\U0001F64F\"  # Emoticons\n",
    "        \"\\U0001F300-\\U0001F5FF\"  # Symbols & Pictographs\n",
    "        \"\\U0001F680-\\U0001F6FF\"  # Transport & Map Symbols\n",
    "        \"\\U0001F1E0-\\U0001F1FF\"  # Flags (iOS)\n",
    "        \"\\U00002702-\\U000027B0\"  # Dingbats\n",
    "        \"\\U000024C2-\\U0001F251\"  # Enclosed Characters\n",
    "        \"]+\",\n",
    "        flags=re.UNICODE\n",
    "    )\n",
    "\n",
    "    # Replace emojis with an empty string\n",
    "    return emoji_pattern.sub(r'', text)"
   ]
  },
  {
   "cell_type": "code",
   "execution_count": 3,
   "id": "5dc7f053",
   "metadata": {},
   "outputs": [],
   "source": [
    "text_with_emojis = \"Hello 👋, I am excited 😄 about this! Let's code 🖥️ together.\"\n"
   ]
  },
  {
   "cell_type": "code",
   "execution_count": 4,
   "id": "42f709f8",
   "metadata": {},
   "outputs": [],
   "source": [
    "text_without_emojis = remove_emojis(text_with_emojis)\n"
   ]
  },
  {
   "cell_type": "code",
   "execution_count": 5,
   "id": "a82ebcb9",
   "metadata": {},
   "outputs": [
    {
     "data": {
      "text/plain": [
       "\"Hello , I am excited  about this! Let's code  together.\""
      ]
     },
     "execution_count": 5,
     "metadata": {},
     "output_type": "execute_result"
    }
   ],
   "source": [
    "text_without_emojis"
   ]
  },
  {
   "cell_type": "markdown",
   "id": "9ce4bae4",
   "metadata": {},
   "source": [
    "# Replacing the emoji with UTF endoded character"
   ]
  },
  {
   "cell_type": "code",
   "execution_count": 6,
   "id": "ad1c0bba",
   "metadata": {},
   "outputs": [],
   "source": [
    "import re"
   ]
  },
  {
   "cell_type": "code",
   "execution_count": 7,
   "id": "30153f6c",
   "metadata": {},
   "outputs": [],
   "source": [
    "def emoji_to_utf(emoji):\n",
    "    \"\"\"Convert a single emoji to its UTF-8 code.\"\"\"\n",
    "    # Encode the emoji to UTF-8 bytes\n",
    "    utf_bytes = emoji.encode('utf-8')\n",
    "    \n",
    "    # Convert each byte to a hex string and join them with space\n",
    "    utf_code = ' '.join(f'U+{byte:02X}' for byte in utf_bytes)\n",
    "    \n",
    "    return utf_code"
   ]
  },
  {
   "cell_type": "code",
   "execution_count": null,
   "id": "37797b6b",
   "metadata": {},
   "outputs": [],
   "source": []
  }
 ],
 "metadata": {
  "kernelspec": {
   "display_name": "Python 3 (ipykernel)",
   "language": "python",
   "name": "python3"
  },
  "language_info": {
   "codemirror_mode": {
    "name": "ipython",
    "version": 3
   },
   "file_extension": ".py",
   "mimetype": "text/x-python",
   "name": "python",
   "nbconvert_exporter": "python",
   "pygments_lexer": "ipython3",
   "version": "3.9.13"
  }
 },
 "nbformat": 4,
 "nbformat_minor": 5
}
