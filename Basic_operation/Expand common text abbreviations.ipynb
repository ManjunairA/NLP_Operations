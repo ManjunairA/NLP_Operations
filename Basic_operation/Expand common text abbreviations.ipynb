{
 "cells": [
  {
   "cell_type": "markdown",
   "id": "00464064",
   "metadata": {},
   "source": [
    "# Expand common text abbreviations using Regex"
   ]
  },
  {
   "cell_type": "code",
   "execution_count": 1,
   "id": "b77e4110",
   "metadata": {},
   "outputs": [],
   "source": [
    "import re"
   ]
  },
  {
   "cell_type": "code",
   "execution_count": 2,
   "id": "0344537f",
   "metadata": {},
   "outputs": [],
   "source": [
    "# Dictionary to map abbreviations to their expanded forms\n",
    "abbreviation_map = {\n",
    "    \"LMC\": \"let me see\",\n",
    "    \"BRB\": \"be right back\",\n",
    "    \"TTYL\": \"talk to you later\",\n",
    "    \"IDK\": \"I don't know\",\n",
    "    \"OMG\": \"oh my god\",\n",
    "    \"FYI\": \"for your information\",\n",
    "    \"BTW\": \"by the way\"\n",
    "}"
   ]
  },
  {
   "cell_type": "code",
   "execution_count": 3,
   "id": "ce077b25",
   "metadata": {},
   "outputs": [],
   "source": [
    "def expand_abbreviations(text):\n",
    "    # Replace each abbreviation in the text with its full form\n",
    "    for abbr, full_form in abbreviation_map.items():\n",
    "        # Use word boundaries to avoid partial matches\n",
    "        pattern = r'\\b' + re.escape(abbr) + r'\\b'\n",
    "        text = re.sub(pattern, full_form, text, flags=re.IGNORECASE)\n",
    "    return text"
   ]
  },
  {
   "cell_type": "code",
   "execution_count": 4,
   "id": "7e827af3",
   "metadata": {},
   "outputs": [],
   "source": [
    "text_with_abbreviations = \"BRB, LMC this file later. IDK what to do next.\""
   ]
  },
  {
   "cell_type": "code",
   "execution_count": 5,
   "id": "16d00ddf",
   "metadata": {},
   "outputs": [
    {
     "data": {
      "text/plain": [
       "'BRB, LMC this file later. IDK what to do next.'"
      ]
     },
     "execution_count": 5,
     "metadata": {},
     "output_type": "execute_result"
    }
   ],
   "source": [
    "text_with_abbreviations"
   ]
  },
  {
   "cell_type": "code",
   "execution_count": 6,
   "id": "3ea42ee3",
   "metadata": {},
   "outputs": [],
   "source": [
    "expanded_text = expand_abbreviations(text_with_abbreviations)"
   ]
  },
  {
   "cell_type": "code",
   "execution_count": 7,
   "id": "f3c357e8",
   "metadata": {},
   "outputs": [
    {
     "data": {
      "text/plain": [
       "\"be right back, let me see this file later. I don't know what to do next.\""
      ]
     },
     "execution_count": 7,
     "metadata": {},
     "output_type": "execute_result"
    }
   ],
   "source": [
    "expanded_text"
   ]
  },
  {
   "cell_type": "markdown",
   "id": "0e5463d4",
   "metadata": {},
   "source": [
    "# Expand common text abbreviations using TextBlob"
   ]
  },
  {
   "cell_type": "code",
   "execution_count": 8,
   "id": "c8fdad23",
   "metadata": {},
   "outputs": [
    {
     "name": "stdout",
     "output_type": "stream",
     "text": [
      "Requirement already satisfied: textblob in c:\\users\\nairm\\anaconda3\\lib\\site-packages (0.18.0.post0)\n",
      "Requirement already satisfied: nltk>=3.8 in c:\\users\\nairm\\anaconda3\\lib\\site-packages (from textblob) (3.8.2)\n",
      "Requirement already satisfied: click in c:\\users\\nairm\\anaconda3\\lib\\site-packages (from nltk>=3.8->textblob) (8.0.4)\n",
      "Requirement already satisfied: joblib in c:\\users\\nairm\\anaconda3\\lib\\site-packages (from nltk>=3.8->textblob) (1.1.0)\n",
      "Requirement already satisfied: regex>=2021.8.3 in c:\\users\\nairm\\anaconda3\\lib\\site-packages (from nltk>=3.8->textblob) (2022.7.9)\n",
      "Requirement already satisfied: tqdm in c:\\users\\nairm\\anaconda3\\lib\\site-packages (from nltk>=3.8->textblob) (4.64.1)\n",
      "Requirement already satisfied: colorama in c:\\users\\nairm\\anaconda3\\lib\\site-packages (from click->nltk>=3.8->textblob) (0.4.6)\n"
     ]
    },
    {
     "name": "stderr",
     "output_type": "stream",
     "text": [
      "\n",
      "[notice] A new release of pip is available: 24.1 -> 24.2\n",
      "[notice] To update, run: python.exe -m pip install --upgrade pip\n"
     ]
    }
   ],
   "source": [
    "!pip install textblob"
   ]
  },
  {
   "cell_type": "code",
   "execution_count": 9,
   "id": "18721e29",
   "metadata": {},
   "outputs": [],
   "source": [
    "from textblob import TextBlob"
   ]
  },
  {
   "cell_type": "code",
   "execution_count": 10,
   "id": "ff1ea1d1",
   "metadata": {},
   "outputs": [],
   "source": [
    "# Dictionary to map abbreviations to their expanded forms\n",
    "abbreviation_map = {\n",
    "    \"LMC\": \"let me see\",\n",
    "    \"BRB\": \"be right back\",\n",
    "    \"TTYL\": \"talk to you later\",\n",
    "    \"IDK\": \"I don't know\",\n",
    "    \"OMG\": \"oh my god\",\n",
    "    \"FYI\": \"for your information\",\n",
    "    \"BTW\": \"by the way\"\n",
    "}"
   ]
  },
  {
   "cell_type": "code",
   "execution_count": 11,
   "id": "80700a78",
   "metadata": {},
   "outputs": [],
   "source": [
    "def expand_abbreviations(text):\n",
    "    # Convert text to a TextBlob object\n",
    "    blob = TextBlob(text)\n",
    "    \n",
    "    # Replace abbreviations with their full forms\n",
    "    expanded_text = str(blob)\n",
    "    for abbr, full_form in abbreviation_map.items():\n",
    "        expanded_text = expanded_text.replace(abbr, full_form)\n",
    "    \n",
    "    return expanded_text"
   ]
  },
  {
   "cell_type": "code",
   "execution_count": 12,
   "id": "76b310bd",
   "metadata": {},
   "outputs": [],
   "source": [
    "text_with_abbreviations = \"BRB, LMC this file later. IDK what to do next.\""
   ]
  },
  {
   "cell_type": "code",
   "execution_count": 13,
   "id": "d7e7b0db",
   "metadata": {},
   "outputs": [],
   "source": [
    "expanded_text = expand_abbreviations(text_with_abbreviations)"
   ]
  },
  {
   "cell_type": "code",
   "execution_count": 14,
   "id": "fe34b507",
   "metadata": {},
   "outputs": [
    {
     "data": {
      "text/plain": [
       "\"be right back, let me see this file later. I don't know what to do next.\""
      ]
     },
     "execution_count": 14,
     "metadata": {},
     "output_type": "execute_result"
    }
   ],
   "source": [
    "expanded_text"
   ]
  }
 ],
 "metadata": {
  "kernelspec": {
   "display_name": "Python 3 (ipykernel)",
   "language": "python",
   "name": "python3"
  },
  "language_info": {
   "codemirror_mode": {
    "name": "ipython",
    "version": 3
   },
   "file_extension": ".py",
   "mimetype": "text/x-python",
   "name": "python",
   "nbconvert_exporter": "python",
   "pygments_lexer": "ipython3",
   "version": "3.9.13"
  }
 },
 "nbformat": 4,
 "nbformat_minor": 5
}
